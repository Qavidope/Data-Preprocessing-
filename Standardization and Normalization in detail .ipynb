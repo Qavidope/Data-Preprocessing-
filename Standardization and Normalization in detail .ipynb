{
 "cells": [
  {
   "cell_type": "markdown",
   "id": "0eccc9df",
   "metadata": {},
   "source": [
    "Standardisation= rescale the feature such as mean =0 and standard deviation =1 \n",
    "the result of standardisation  is z called as z -score normalization \n",
    "if data follow normal distribution (gaussian distribution)\n",
    "if the original distribution is normal then the standardised distribution will be normal \n",
    "if the original distri is skewed then the standardised disti of the variable will also be skewed \n",
    "  \n",
    "  >z=x-u /std "
   ]
  },
  {
   "cell_type": "code",
   "execution_count": null,
   "id": "dd2832e4",
   "metadata": {},
   "outputs": [],
   "source": [
    "Normalization rescale the feature in fixed range btw 0 to 1 \n",
    "normalization also called as min-max scaling \n",
    "if data doesnot follow normal dist(gaussian distribution )\n"
   ]
  },
  {
   "cell_type": "markdown",
   "id": "35d3c424",
   "metadata": {},
   "source": [
    "# feature scaling \n",
    "\n",
    "min max scaler \n",
    "standard scaler \n",
    "max abs scaler \n",
    "robust scaler \n",
    "quantile transformer scaler \n",
    "power transformer scaler \n",
    "unit vector scaler \n"
   ]
  },
  {
   "cell_type": "code",
   "execution_count": null,
   "id": "aa3320a7",
   "metadata": {},
   "outputs": [],
   "source": []
  },
  {
   "cell_type": "code",
   "execution_count": null,
   "id": "e29a3e00",
   "metadata": {},
   "outputs": [],
   "source": []
  },
  {
   "cell_type": "code",
   "execution_count": null,
   "id": "7b598fd1",
   "metadata": {},
   "outputs": [],
   "source": []
  },
  {
   "cell_type": "code",
   "execution_count": 5,
   "id": "40503b9e",
   "metadata": {},
   "outputs": [],
   "source": [
    "#Standardization and Normalization \n"
   ]
  },
  {
   "cell_type": "code",
   "execution_count": null,
   "id": "b40e4e53",
   "metadata": {},
   "outputs": [],
   "source": []
  },
  {
   "cell_type": "code",
   "execution_count": 28,
   "id": "eba73184",
   "metadata": {},
   "outputs": [],
   "source": [
    "import pandas as pd \n",
    "import seaborn as sns \n",
    "from sklearn.preprocessing import StandardScaler\n",
    "from sklearn.preprocessing import MinMaxScaler\n",
    "from sklearn.model_selection import train_test_split "
   ]
  },
  {
   "cell_type": "code",
   "execution_count": null,
   "id": "65aca7fd",
   "metadata": {},
   "outputs": [],
   "source": []
  },
  {
   "cell_type": "code",
   "execution_count": 16,
   "id": "b61d91fa",
   "metadata": {},
   "outputs": [],
   "source": [
    "df=sns.load_dataset(\"titanic\")"
   ]
  },
  {
   "cell_type": "code",
   "execution_count": 27,
   "id": "6e900729",
   "metadata": {},
   "outputs": [
    {
     "data": {
      "text/html": [
       "<div>\n",
       "<style scoped>\n",
       "    .dataframe tbody tr th:only-of-type {\n",
       "        vertical-align: middle;\n",
       "    }\n",
       "\n",
       "    .dataframe tbody tr th {\n",
       "        vertical-align: top;\n",
       "    }\n",
       "\n",
       "    .dataframe thead th {\n",
       "        text-align: right;\n",
       "    }\n",
       "</style>\n",
       "<table border=\"1\" class=\"dataframe\">\n",
       "  <thead>\n",
       "    <tr style=\"text-align: right;\">\n",
       "      <th></th>\n",
       "      <th>survived</th>\n",
       "      <th>pclass</th>\n",
       "      <th>sex</th>\n",
       "      <th>age</th>\n",
       "      <th>sibsp</th>\n",
       "      <th>parch</th>\n",
       "      <th>fare</th>\n",
       "      <th>embarked</th>\n",
       "      <th>class</th>\n",
       "      <th>who</th>\n",
       "      <th>adult_male</th>\n",
       "      <th>deck</th>\n",
       "      <th>embark_town</th>\n",
       "      <th>alive</th>\n",
       "      <th>alone</th>\n",
       "    </tr>\n",
       "  </thead>\n",
       "  <tbody>\n",
       "    <tr>\n",
       "      <th>0</th>\n",
       "      <td>0</td>\n",
       "      <td>3</td>\n",
       "      <td>male</td>\n",
       "      <td>22.0</td>\n",
       "      <td>1</td>\n",
       "      <td>0</td>\n",
       "      <td>7.2500</td>\n",
       "      <td>S</td>\n",
       "      <td>Third</td>\n",
       "      <td>man</td>\n",
       "      <td>True</td>\n",
       "      <td>NaN</td>\n",
       "      <td>Southampton</td>\n",
       "      <td>no</td>\n",
       "      <td>False</td>\n",
       "    </tr>\n",
       "    <tr>\n",
       "      <th>1</th>\n",
       "      <td>1</td>\n",
       "      <td>1</td>\n",
       "      <td>female</td>\n",
       "      <td>38.0</td>\n",
       "      <td>1</td>\n",
       "      <td>0</td>\n",
       "      <td>71.2833</td>\n",
       "      <td>C</td>\n",
       "      <td>First</td>\n",
       "      <td>woman</td>\n",
       "      <td>False</td>\n",
       "      <td>C</td>\n",
       "      <td>Cherbourg</td>\n",
       "      <td>yes</td>\n",
       "      <td>False</td>\n",
       "    </tr>\n",
       "    <tr>\n",
       "      <th>2</th>\n",
       "      <td>1</td>\n",
       "      <td>3</td>\n",
       "      <td>female</td>\n",
       "      <td>26.0</td>\n",
       "      <td>0</td>\n",
       "      <td>0</td>\n",
       "      <td>7.9250</td>\n",
       "      <td>S</td>\n",
       "      <td>Third</td>\n",
       "      <td>woman</td>\n",
       "      <td>False</td>\n",
       "      <td>NaN</td>\n",
       "      <td>Southampton</td>\n",
       "      <td>yes</td>\n",
       "      <td>True</td>\n",
       "    </tr>\n",
       "    <tr>\n",
       "      <th>3</th>\n",
       "      <td>1</td>\n",
       "      <td>1</td>\n",
       "      <td>female</td>\n",
       "      <td>35.0</td>\n",
       "      <td>1</td>\n",
       "      <td>0</td>\n",
       "      <td>53.1000</td>\n",
       "      <td>S</td>\n",
       "      <td>First</td>\n",
       "      <td>woman</td>\n",
       "      <td>False</td>\n",
       "      <td>C</td>\n",
       "      <td>Southampton</td>\n",
       "      <td>yes</td>\n",
       "      <td>False</td>\n",
       "    </tr>\n",
       "    <tr>\n",
       "      <th>4</th>\n",
       "      <td>0</td>\n",
       "      <td>3</td>\n",
       "      <td>male</td>\n",
       "      <td>35.0</td>\n",
       "      <td>0</td>\n",
       "      <td>0</td>\n",
       "      <td>8.0500</td>\n",
       "      <td>S</td>\n",
       "      <td>Third</td>\n",
       "      <td>man</td>\n",
       "      <td>True</td>\n",
       "      <td>NaN</td>\n",
       "      <td>Southampton</td>\n",
       "      <td>no</td>\n",
       "      <td>True</td>\n",
       "    </tr>\n",
       "  </tbody>\n",
       "</table>\n",
       "</div>"
      ],
      "text/plain": [
       "   survived  pclass     sex   age  sibsp  parch     fare embarked  class  \\\n",
       "0         0       3    male  22.0      1      0   7.2500        S  Third   \n",
       "1         1       1  female  38.0      1      0  71.2833        C  First   \n",
       "2         1       3  female  26.0      0      0   7.9250        S  Third   \n",
       "3         1       1  female  35.0      1      0  53.1000        S  First   \n",
       "4         0       3    male  35.0      0      0   8.0500        S  Third   \n",
       "\n",
       "     who  adult_male deck  embark_town alive  alone  \n",
       "0    man        True  NaN  Southampton    no  False  \n",
       "1  woman       False    C    Cherbourg   yes  False  \n",
       "2  woman       False  NaN  Southampton   yes   True  \n",
       "3  woman       False    C  Southampton   yes  False  \n",
       "4    man        True  NaN  Southampton    no   True  "
      ]
     },
     "execution_count": 27,
     "metadata": {},
     "output_type": "execute_result"
    }
   ],
   "source": [
    "df.head()"
   ]
  },
  {
   "cell_type": "code",
   "execution_count": 13,
   "id": "6bb44867",
   "metadata": {},
   "outputs": [],
   "source": [
    "df2=df[['survived','pclass','age','parch']]"
   ]
  },
  {
   "cell_type": "code",
   "execution_count": 21,
   "id": "ab6a7e4d",
   "metadata": {},
   "outputs": [
    {
     "data": {
      "text/html": [
       "<div>\n",
       "<style scoped>\n",
       "    .dataframe tbody tr th:only-of-type {\n",
       "        vertical-align: middle;\n",
       "    }\n",
       "\n",
       "    .dataframe tbody tr th {\n",
       "        vertical-align: top;\n",
       "    }\n",
       "\n",
       "    .dataframe thead th {\n",
       "        text-align: right;\n",
       "    }\n",
       "</style>\n",
       "<table border=\"1\" class=\"dataframe\">\n",
       "  <thead>\n",
       "    <tr style=\"text-align: right;\">\n",
       "      <th></th>\n",
       "      <th>survived</th>\n",
       "      <th>pclass</th>\n",
       "      <th>age</th>\n",
       "      <th>parch</th>\n",
       "    </tr>\n",
       "  </thead>\n",
       "  <tbody>\n",
       "    <tr>\n",
       "      <th>0</th>\n",
       "      <td>0</td>\n",
       "      <td>3</td>\n",
       "      <td>22.0</td>\n",
       "      <td>0</td>\n",
       "    </tr>\n",
       "    <tr>\n",
       "      <th>1</th>\n",
       "      <td>1</td>\n",
       "      <td>1</td>\n",
       "      <td>38.0</td>\n",
       "      <td>0</td>\n",
       "    </tr>\n",
       "    <tr>\n",
       "      <th>2</th>\n",
       "      <td>1</td>\n",
       "      <td>3</td>\n",
       "      <td>26.0</td>\n",
       "      <td>0</td>\n",
       "    </tr>\n",
       "    <tr>\n",
       "      <th>3</th>\n",
       "      <td>1</td>\n",
       "      <td>1</td>\n",
       "      <td>35.0</td>\n",
       "      <td>0</td>\n",
       "    </tr>\n",
       "    <tr>\n",
       "      <th>4</th>\n",
       "      <td>0</td>\n",
       "      <td>3</td>\n",
       "      <td>35.0</td>\n",
       "      <td>0</td>\n",
       "    </tr>\n",
       "  </tbody>\n",
       "</table>\n",
       "</div>"
      ],
      "text/plain": [
       "   survived  pclass   age  parch\n",
       "0         0       3  22.0      0\n",
       "1         1       1  38.0      0\n",
       "2         1       3  26.0      0\n",
       "3         1       1  35.0      0\n",
       "4         0       3  35.0      0"
      ]
     },
     "execution_count": 21,
     "metadata": {},
     "output_type": "execute_result"
    }
   ],
   "source": [
    "df2.head()  #survived is a traget variable  #pclass age parch are independent features "
   ]
  },
  {
   "cell_type": "code",
   "execution_count": null,
   "id": "bc8b4fc5",
   "metadata": {},
   "outputs": [],
   "source": []
  },
  {
   "cell_type": "code",
   "execution_count": 25,
   "id": "da2ac3bb",
   "metadata": {},
   "outputs": [
    {
     "data": {
      "text/html": [
       "<div>\n",
       "<style scoped>\n",
       "    .dataframe tbody tr th:only-of-type {\n",
       "        vertical-align: middle;\n",
       "    }\n",
       "\n",
       "    .dataframe tbody tr th {\n",
       "        vertical-align: top;\n",
       "    }\n",
       "\n",
       "    .dataframe thead th {\n",
       "        text-align: right;\n",
       "    }\n",
       "</style>\n",
       "<table border=\"1\" class=\"dataframe\">\n",
       "  <thead>\n",
       "    <tr style=\"text-align: right;\">\n",
       "      <th></th>\n",
       "      <th>survived</th>\n",
       "      <th>pclass</th>\n",
       "      <th>age</th>\n",
       "      <th>parch</th>\n",
       "    </tr>\n",
       "  </thead>\n",
       "  <tbody>\n",
       "    <tr>\n",
       "      <th>0</th>\n",
       "      <td>0</td>\n",
       "      <td>3</td>\n",
       "      <td>22.0</td>\n",
       "      <td>0</td>\n",
       "    </tr>\n",
       "    <tr>\n",
       "      <th>1</th>\n",
       "      <td>1</td>\n",
       "      <td>1</td>\n",
       "      <td>38.0</td>\n",
       "      <td>0</td>\n",
       "    </tr>\n",
       "    <tr>\n",
       "      <th>2</th>\n",
       "      <td>1</td>\n",
       "      <td>3</td>\n",
       "      <td>26.0</td>\n",
       "      <td>0</td>\n",
       "    </tr>\n",
       "    <tr>\n",
       "      <th>3</th>\n",
       "      <td>1</td>\n",
       "      <td>1</td>\n",
       "      <td>35.0</td>\n",
       "      <td>0</td>\n",
       "    </tr>\n",
       "    <tr>\n",
       "      <th>4</th>\n",
       "      <td>0</td>\n",
       "      <td>3</td>\n",
       "      <td>35.0</td>\n",
       "      <td>0</td>\n",
       "    </tr>\n",
       "  </tbody>\n",
       "</table>\n",
       "</div>"
      ],
      "text/plain": [
       "   survived  pclass   age  parch\n",
       "0         0       3  22.0      0\n",
       "1         1       1  38.0      0\n",
       "2         1       3  26.0      0\n",
       "3         1       1  35.0      0\n",
       "4         0       3  35.0      0"
      ]
     },
     "execution_count": 25,
     "metadata": {},
     "output_type": "execute_result"
    }
   ],
   "source": [
    "df3=df2.fillna(df2.mean())\n",
    "df3.head()"
   ]
  },
  {
   "cell_type": "code",
   "execution_count": 23,
   "id": "31a0a7c2",
   "metadata": {},
   "outputs": [
    {
     "name": "stdout",
     "output_type": "stream",
     "text": [
      "shape of x = (891, 3)\n",
      "shape of x = (891,)\n"
     ]
    }
   ],
   "source": [
    "X=df3.drop(\"survived\",axis=1) #making dependable variable as vector \n",
    "y=df3['survived']           \n",
    "print('shape of x =',X.shape)\n",
    "print('shape of x =',y.shape)"
   ]
  },
  {
   "cell_type": "code",
   "execution_count": 32,
   "id": "2637abd2",
   "metadata": {},
   "outputs": [],
   "source": [
    "X_train, X_test, y_train, y_test =   train_test_split(X,y,test_size=0.2,random_state=51)\n"
   ]
  },
  {
   "cell_type": "code",
   "execution_count": 34,
   "id": "d46806e9",
   "metadata": {},
   "outputs": [],
   "source": [
    "sc=StandardScaler()"
   ]
  },
  {
   "cell_type": "code",
   "execution_count": 35,
   "id": "54efabe5",
   "metadata": {},
   "outputs": [
    {
     "data": {
      "text/plain": [
       "StandardScaler()"
      ]
     },
     "execution_count": 35,
     "metadata": {},
     "output_type": "execute_result"
    }
   ],
   "source": [
    "sc.fit(X_train)"
   ]
  },
  {
   "cell_type": "code",
   "execution_count": 36,
   "id": "6a96d82a",
   "metadata": {},
   "outputs": [
    {
     "data": {
      "text/plain": [
       "array([ 2.30617978, 29.55409121,  0.39185393])"
      ]
     },
     "execution_count": 36,
     "metadata": {},
     "output_type": "execute_result"
    }
   ],
   "source": [
    "sc.mean_"
   ]
  },
  {
   "cell_type": "code",
   "execution_count": 37,
   "id": "4048a6a9",
   "metadata": {},
   "outputs": [
    {
     "data": {
      "text/plain": [
       "array([ 0.84405789, 12.99162985,  0.79647463])"
      ]
     },
     "execution_count": 37,
     "metadata": {},
     "output_type": "execute_result"
    }
   ],
   "source": [
    "sc.scale_"
   ]
  },
  {
   "cell_type": "code",
   "execution_count": 40,
   "id": "8919ad24",
   "metadata": {},
   "outputs": [
    {
     "data": {
      "text/html": [
       "<div>\n",
       "<style scoped>\n",
       "    .dataframe tbody tr th:only-of-type {\n",
       "        vertical-align: middle;\n",
       "    }\n",
       "\n",
       "    .dataframe tbody tr th {\n",
       "        vertical-align: top;\n",
       "    }\n",
       "\n",
       "    .dataframe thead th {\n",
       "        text-align: right;\n",
       "    }\n",
       "</style>\n",
       "<table border=\"1\" class=\"dataframe\">\n",
       "  <thead>\n",
       "    <tr style=\"text-align: right;\">\n",
       "      <th></th>\n",
       "      <th>pclass</th>\n",
       "      <th>age</th>\n",
       "      <th>parch</th>\n",
       "    </tr>\n",
       "  </thead>\n",
       "  <tbody>\n",
       "    <tr>\n",
       "      <th>count</th>\n",
       "      <td>712.000000</td>\n",
       "      <td>712.000000</td>\n",
       "      <td>712.000000</td>\n",
       "    </tr>\n",
       "    <tr>\n",
       "      <th>mean</th>\n",
       "      <td>2.306180</td>\n",
       "      <td>29.554091</td>\n",
       "      <td>0.391854</td>\n",
       "    </tr>\n",
       "    <tr>\n",
       "      <th>std</th>\n",
       "      <td>0.844651</td>\n",
       "      <td>13.000763</td>\n",
       "      <td>0.797035</td>\n",
       "    </tr>\n",
       "    <tr>\n",
       "      <th>min</th>\n",
       "      <td>1.000000</td>\n",
       "      <td>0.420000</td>\n",
       "      <td>0.000000</td>\n",
       "    </tr>\n",
       "    <tr>\n",
       "      <th>25%</th>\n",
       "      <td>1.750000</td>\n",
       "      <td>22.000000</td>\n",
       "      <td>0.000000</td>\n",
       "    </tr>\n",
       "    <tr>\n",
       "      <th>50%</th>\n",
       "      <td>3.000000</td>\n",
       "      <td>29.699118</td>\n",
       "      <td>0.000000</td>\n",
       "    </tr>\n",
       "    <tr>\n",
       "      <th>75%</th>\n",
       "      <td>3.000000</td>\n",
       "      <td>35.000000</td>\n",
       "      <td>0.000000</td>\n",
       "    </tr>\n",
       "    <tr>\n",
       "      <th>max</th>\n",
       "      <td>3.000000</td>\n",
       "      <td>71.000000</td>\n",
       "      <td>5.000000</td>\n",
       "    </tr>\n",
       "  </tbody>\n",
       "</table>\n",
       "</div>"
      ],
      "text/plain": [
       "           pclass         age       parch\n",
       "count  712.000000  712.000000  712.000000\n",
       "mean     2.306180   29.554091    0.391854\n",
       "std      0.844651   13.000763    0.797035\n",
       "min      1.000000    0.420000    0.000000\n",
       "25%      1.750000   22.000000    0.000000\n",
       "50%      3.000000   29.699118    0.000000\n",
       "75%      3.000000   35.000000    0.000000\n",
       "max      3.000000   71.000000    5.000000"
      ]
     },
     "execution_count": 40,
     "metadata": {},
     "output_type": "execute_result"
    }
   ],
   "source": [
    "X_train.describe()"
   ]
  },
  {
   "cell_type": "code",
   "execution_count": 42,
   "id": "7bafc29d",
   "metadata": {},
   "outputs": [],
   "source": [
    "X_train= sc.transform(X_train)\n",
    "X_test = sc.transform(X_test)"
   ]
  },
  {
   "cell_type": "code",
   "execution_count": null,
   "id": "fe0c6828",
   "metadata": {},
   "outputs": [],
   "source": []
  },
  {
   "cell_type": "code",
   "execution_count": 43,
   "id": "c5aaee4e",
   "metadata": {},
   "outputs": [
    {
     "data": {
      "text/plain": [
       "array([[ 0.8220055 , -0.42751304, -0.49198545],\n",
       "       [ 0.8220055 ,  1.997125  , -0.49198545],\n",
       "       [ 0.8220055 , -1.42815732, -0.49198545],\n",
       "       ...,\n",
       "       [ 0.8220055 ,  1.41983023,  3.27461284],\n",
       "       [ 0.8220055 ,  0.01116307,  0.76354731],\n",
       "       [ 0.8220055 , -0.08113618, -0.49198545]])"
      ]
     },
     "execution_count": 43,
     "metadata": {},
     "output_type": "execute_result"
    }
   ],
   "source": [
    "X_train"
   ]
  },
  {
   "cell_type": "code",
   "execution_count": 44,
   "id": "d14c072b",
   "metadata": {},
   "outputs": [
    {
     "data": {
      "text/plain": [
       "array([[-1.54750023,  0.80404914, -0.49198545],\n",
       "       [ 0.8220055 ,  0.18826805, -0.49198545],\n",
       "       [ 0.8220055 ,  0.03432278, -0.49198545],\n",
       "       [-1.54750023,  0.01116307, -0.49198545],\n",
       "       [-0.36274737,  0.34221332,  0.76354731],\n",
       "       [ 0.8220055 ,  0.18826805, -0.49198545],\n",
       "       [-1.54750023,  1.34285759, -0.49198545],\n",
       "       [ 0.8220055 , -1.04329413, -0.49198545],\n",
       "       [-0.36274737,  2.80533768, -0.49198545],\n",
       "       [-1.54750023, -1.12026677,  0.76354731],\n",
       "       [-0.36274737,  0.11129541, -0.49198545],\n",
       "       [-0.36274737, -0.1196225 , -0.49198545],\n",
       "       [-1.54750023,  1.18891232, -0.49198545],\n",
       "       [ 0.8220055 , -0.50448568, -0.49198545],\n",
       "       [ 0.8220055 ,  0.88102177,  5.78567837],\n",
       "       [-0.36274737, -0.35054041, -0.49198545],\n",
       "       [-0.36274737,  0.49615859,  2.01908008],\n",
       "       [ 0.8220055 ,  0.01116307, -0.49198545],\n",
       "       [ 0.8220055 ,  0.01116307, -0.49198545],\n",
       "       [-0.36274737, -0.81237622, -0.49198545],\n",
       "       [ 0.8220055 ,  0.01116307, -0.49198545],\n",
       "       [-0.36274737, -0.88934886, -0.49198545],\n",
       "       [ 0.8220055 , -0.65843095, -0.49198545],\n",
       "       [-1.54750023,  0.11129541, -0.49198545],\n",
       "       [ 0.8220055 , -0.9663215 , -0.49198545],\n",
       "       [-1.54750023, -0.42751304, -0.49198545],\n",
       "       [ 0.8220055 ,  0.88102177, -0.49198545],\n",
       "       [-1.54750023,  0.01116307, -0.49198545],\n",
       "       [ 0.8220055 ,  0.41918596,  0.76354731],\n",
       "       [-1.54750023, -1.04329413,  0.76354731],\n",
       "       [ 0.8220055 ,  0.01116307, -0.49198545],\n",
       "       [-1.54750023,  2.18955659,  2.01908008],\n",
       "       [-1.54750023,  1.34285759, -0.49198545],\n",
       "       [ 0.8220055 ,  0.11129541, -0.49198545],\n",
       "       [-0.36274737,  0.34221332, -0.49198545],\n",
       "       [-0.36274737,  0.01116307, -0.49198545],\n",
       "       [-0.36274737,  0.18826805, -0.49198545],\n",
       "       [ 0.8220055 ,  0.03432278, -0.49198545],\n",
       "       [-0.36274737, -0.58145832,  0.76354731],\n",
       "       [ 0.8220055 ,  3.42111877, -0.49198545],\n",
       "       [-0.36274737, -0.1196225 , -0.49198545],\n",
       "       [ 0.8220055 , -0.65843095, -0.49198545],\n",
       "       [ 0.8220055 ,  0.84253546, -0.49198545],\n",
       "       [-0.36274737, -1.88999313,  2.01908008],\n",
       "       [ 0.8220055 , -1.96696577,  2.01908008],\n",
       "       [-0.36274737,  0.49615859, -0.49198545],\n",
       "       [-0.36274737, -0.04264986, -0.49198545],\n",
       "       [ 0.8220055 , -1.04329413, -0.49198545],\n",
       "       [-1.54750023, -0.1196225 , -0.49198545],\n",
       "       [ 0.8220055 , -0.35054041, -0.49198545],\n",
       "       [ 0.8220055 ,  0.01116307, -0.49198545],\n",
       "       [-1.54750023,  0.49615859, -0.49198545],\n",
       "       [ 0.8220055 ,  1.65074814, -0.49198545],\n",
       "       [ 0.8220055 ,  0.01116307, -0.49198545],\n",
       "       [-0.36274737, -0.42751304, -0.49198545],\n",
       "       [-1.54750023,  1.5737755 , -0.49198545],\n",
       "       [-1.54750023, -0.27356777, -0.49198545],\n",
       "       [ 0.8220055 ,  0.95799441, -0.49198545],\n",
       "       [ 0.8220055 , -1.19723941, -0.49198545],\n",
       "       [ 0.8220055 , -0.65843095, -0.49198545],\n",
       "       [ 0.8220055 ,  1.18891232, -0.49198545],\n",
       "       [ 0.8220055 ,  1.18891232, -0.49198545],\n",
       "       [-1.54750023,  0.95799441, -0.49198545],\n",
       "       [ 0.8220055 , -0.04264986, -0.49198545],\n",
       "       [ 0.8220055 , -0.1196225 , -0.49198545],\n",
       "       [ 0.8220055 , -1.04329413, -0.49198545],\n",
       "       [-0.36274737, -0.50448568, -0.49198545],\n",
       "       [ 0.8220055 , -1.19723941,  0.76354731],\n",
       "       [-0.36274737,  0.95799441, -0.49198545],\n",
       "       [-0.36274737, -0.19659513, -0.49198545],\n",
       "       [-1.54750023,  0.18826805, -0.49198545],\n",
       "       [ 0.8220055 , -0.88934886, -0.49198545],\n",
       "       [-0.36274737, -2.04393841,  0.76354731],\n",
       "       [ 0.8220055 ,  0.01116307, -0.49198545],\n",
       "       [-1.54750023,  2.03561132, -0.49198545],\n",
       "       [-0.36274737, -2.12091104,  0.76354731],\n",
       "       [-0.36274737, -0.1196225 , -0.49198545],\n",
       "       [-1.54750023,  0.65010387, -0.49198545],\n",
       "       [ 0.8220055 ,  0.01116307, -0.49198545],\n",
       "       [ 0.8220055 ,  0.01116307, -0.49198545],\n",
       "       [-0.36274737, -0.88934886, -0.49198545],\n",
       "       [ 0.8220055 , -0.1196225 , -0.49198545],\n",
       "       [-0.36274737,  0.03432278, -0.49198545],\n",
       "       [-1.54750023,  0.03432278, -0.49198545],\n",
       "       [-0.36274737,  1.26588496, -0.49198545],\n",
       "       [ 0.8220055 , -1.58210259,  0.76354731],\n",
       "       [-1.54750023,  0.80404914, -0.49198545],\n",
       "       [ 0.8220055 ,  0.01116307, -0.49198545],\n",
       "       [ 0.8220055 , -2.12091104,  2.01908008],\n",
       "       [ 0.8220055 ,  0.01116307, -0.49198545],\n",
       "       [ 0.8220055 ,  1.03496705, -0.49198545],\n",
       "       [-0.36274737,  1.88166605, -0.49198545],\n",
       "       [ 0.8220055 ,  0.01116307, -0.49198545],\n",
       "       [-0.36274737, -0.35054041,  0.76354731],\n",
       "       [-1.54750023,  0.11129541, -0.49198545],\n",
       "       [ 0.8220055 ,  0.01116307, -0.49198545],\n",
       "       [-0.36274737, -0.04264986, -0.49198545],\n",
       "       [ 0.8220055 , -1.04329413,  0.76354731],\n",
       "       [-1.54750023, -0.04264986, -0.49198545],\n",
       "       [ 0.8220055 ,  0.95799441,  0.76354731],\n",
       "       [-0.36274737,  2.49744714, -0.49198545],\n",
       "       [ 0.8220055 ,  0.01116307,  0.76354731],\n",
       "       [ 0.8220055 ,  0.26524068, -0.49198545],\n",
       "       [-0.36274737, -0.19659513, -0.49198545],\n",
       "       [ 0.8220055 ,  0.01116307, -0.49198545],\n",
       "       [ 0.8220055 ,  1.03496705,  7.04121114],\n",
       "       [ 0.8220055 ,  0.11129541, -0.49198545],\n",
       "       [ 0.8220055 , -0.35054041, -0.49198545],\n",
       "       [ 0.8220055 ,  0.49615859,  0.76354731],\n",
       "       [ 0.8220055 ,  0.18826805, -0.49198545],\n",
       "       [ 0.8220055 ,  0.01116307, -0.49198545],\n",
       "       [-0.36274737, -0.35054041,  2.01908008],\n",
       "       [-1.54750023,  3.88295459, -0.49198545],\n",
       "       [ 0.8220055 ,  0.41918596, -0.49198545],\n",
       "       [-0.36274737, -0.81237622, -0.49198545],\n",
       "       [ 0.8220055 ,  0.18826805, -0.49198545],\n",
       "       [-0.36274737, -0.9663215 , -0.49198545],\n",
       "       [-1.54750023,  2.65139241,  4.53014561],\n",
       "       [ 0.8220055 , -0.81237622, -0.49198545],\n",
       "       [ 0.8220055 , -1.15875309, -0.49198545],\n",
       "       [ 0.8220055 ,  0.95799441, -0.49198545],\n",
       "       [-1.54750023,  2.49744714, -0.49198545],\n",
       "       [ 0.8220055 ,  0.01116307, -0.49198545],\n",
       "       [ 0.8220055 , -0.81237622, -0.49198545],\n",
       "       [-0.36274737, -0.27356777,  0.76354731],\n",
       "       [ 0.8220055 , -1.04329413, -0.49198545],\n",
       "       [ 0.8220055 , -0.1196225 , -0.49198545],\n",
       "       [-1.54750023,  1.11193968,  0.76354731],\n",
       "       [ 0.8220055 ,  0.01116307, -0.49198545],\n",
       "       [ 0.8220055 ,  0.01116307, -0.49198545],\n",
       "       [-0.36274737,  0.03432278, -0.49198545],\n",
       "       [ 0.8220055 , -0.27356777, -0.49198545],\n",
       "       [ 0.8220055 ,  0.49615859, -0.49198545],\n",
       "       [-1.54750023,  2.34350187, -0.49198545],\n",
       "       [ 0.8220055 , -0.88934886, -0.49198545],\n",
       "       [ 0.8220055 ,  0.01116307, -0.49198545],\n",
       "       [-0.36274737,  0.01116307, -0.49198545],\n",
       "       [ 0.8220055 , -1.04329413,  0.76354731],\n",
       "       [-0.36274737, -2.21096903,  2.01908008],\n",
       "       [ 0.8220055 ,  0.01116307, -0.49198545],\n",
       "       [-1.54750023, -0.58145832, -0.49198545],\n",
       "       [-0.36274737, -0.04264986, -0.49198545],\n",
       "       [-1.54750023,  1.22739864, -0.49198545],\n",
       "       [-0.36274737,  0.34221332, -0.49198545],\n",
       "       [ 0.8220055 , -0.9663215 ,  0.76354731],\n",
       "       [ 0.8220055 ,  0.26524068,  0.76354731],\n",
       "       [ 0.8220055 , -0.19659513, -0.49198545],\n",
       "       [-0.36274737,  0.41918596, -0.49198545],\n",
       "       [ 0.8220055 ,  0.01116307, -0.49198545],\n",
       "       [ 0.8220055 ,  0.01116307, -0.49198545],\n",
       "       [ 0.8220055 ,  0.01116307, -0.49198545],\n",
       "       [-1.54750023,  1.88166605,  0.76354731],\n",
       "       [ 0.8220055 , -1.58210259,  2.01908008],\n",
       "       [-1.54750023, -0.65843095,  2.01908008],\n",
       "       [ 0.8220055 , -0.1196225 ,  0.76354731],\n",
       "       [ 0.8220055 ,  0.01116307, -0.49198545],\n",
       "       [ 0.8220055 , -1.04329413, -0.49198545],\n",
       "       [-0.36274737, -0.65843095, -0.49198545],\n",
       "       [ 0.8220055 ,  0.01116307,  0.76354731],\n",
       "       [ 0.8220055 , -1.58210259,  2.01908008],\n",
       "       [ 0.8220055 ,  0.57313123, -0.49198545],\n",
       "       [-1.54750023, -2.12091104,  2.01908008],\n",
       "       [ 0.8220055 , -0.81237622, -0.49198545],\n",
       "       [-0.36274737,  1.11193968, -0.49198545],\n",
       "       [-1.54750023, -0.81237622, -0.49198545],\n",
       "       [ 0.8220055 , -0.1196225 , -0.49198545],\n",
       "       [ 0.8220055 , -0.04264986, -0.49198545],\n",
       "       [-0.36274737,  0.34221332, -0.49198545],\n",
       "       [-0.36274737,  0.49615859, -0.49198545],\n",
       "       [ 0.8220055 , -0.65843095, -0.49198545],\n",
       "       [ 0.8220055 ,  0.01116307, -0.49198545],\n",
       "       [-1.54750023,  0.01116307, -0.49198545],\n",
       "       [-1.54750023,  1.95863868, -0.49198545],\n",
       "       [ 0.8220055 ,  0.11129541, -0.49198545],\n",
       "       [ 0.8220055 ,  0.01116307,  2.01908008],\n",
       "       [ 0.8220055 , -0.27356777, -0.49198545],\n",
       "       [-0.36274737, -0.42751304, -0.49198545],\n",
       "       [-1.54750023,  0.11129541, -0.49198545],\n",
       "       [-1.54750023,  0.57313123, -0.49198545]])"
      ]
     },
     "execution_count": 44,
     "metadata": {},
     "output_type": "execute_result"
    }
   ],
   "source": [
    "X_test"
   ]
  },
  {
   "cell_type": "code",
   "execution_count": null,
   "id": "2bede5a4",
   "metadata": {},
   "outputs": [],
   "source": []
  },
  {
   "cell_type": "code",
   "execution_count": null,
   "id": "a802ce23",
   "metadata": {},
   "outputs": [],
   "source": []
  },
  {
   "cell_type": "code",
   "execution_count": null,
   "id": "0583de61",
   "metadata": {},
   "outputs": [],
   "source": []
  },
  {
   "cell_type": "code",
   "execution_count": null,
   "id": "255a682f",
   "metadata": {},
   "outputs": [],
   "source": []
  }
 ],
 "metadata": {
  "kernelspec": {
   "display_name": "Python 3 (ipykernel)",
   "language": "python",
   "name": "python3"
  },
  "language_info": {
   "codemirror_mode": {
    "name": "ipython",
    "version": 3
   },
   "file_extension": ".py",
   "mimetype": "text/x-python",
   "name": "python",
   "nbconvert_exporter": "python",
   "pygments_lexer": "ipython3",
   "version": "3.9.7"
  }
 },
 "nbformat": 4,
 "nbformat_minor": 5
}
