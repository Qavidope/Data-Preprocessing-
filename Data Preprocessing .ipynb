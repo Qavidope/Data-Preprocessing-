{
 "cells": [
  {
   "cell_type": "markdown",
   "id": "1497fa9a",
   "metadata": {},
   "source": [
    "# Data Preprocessing  (some important points )\n",
    " It is a techinique to transform noisy ,duplicate ,incomplete inconsistent       to       accurate ,completeness,consistency ,complete "
   ]
  },
  {
   "cell_type": "markdown",
   "id": "c23c26f4",
   "metadata": {},
   "source": [
    "\n",
    "\n",
    "\n",
    "# Techiniques \n",
    "\n",
    "\n",
    "\n",
    "\n",
    "\n",
    "\n"
   ]
  },
  {
   "cell_type": "markdown",
   "id": "8b006a3d",
   "metadata": {},
   "source": [
    "Data cleaning \n",
    "\tfilling missing values ,smooth out noise while identifying outliers and correct inconsistencies in the data "
   ]
  },
  {
   "cell_type": "markdown",
   "id": "833d1bbc",
   "metadata": {},
   "source": [
    "Data integration \n",
    " \tit means to merges data from mulitiple sources into a coherent data store ,such as a data warehouse "
   ]
  },
  {
   "cell_type": "markdown",
   "id": "d93b6510",
   "metadata": {},
   "source": [
    "Data reduction \n",
    "\tit is use to reduce the data size by aggregate eliminate redundant features or clustering for instance "
   ]
  },
  {
   "cell_type": "markdown",
   "id": "ac7d8b5b",
   "metadata": {},
   "source": [
    "Data Transformation \n",
    "\tit means data are trnaformed  into from appropriate for ml model training such as normalization may be applied whare data        are scaled to fall with in smaller range like 0.0 to 1.0 ."
   ]
  },
  {
   "cell_type": "markdown",
   "id": "179f92a6",
   "metadata": {},
   "source": [
    "Data Discretization \n",
    "\tit is technique  transforms numeric data by mapping values to interval or concept labels   \n",
    "    it is used to reduce the numbers of values for given continuous  attributes to interval form \n",
    "    1,2,3,4,5,6,7,8,9,10  ======> 1-4,5-8"
   ]
  },
  {
   "cell_type": "code",
   "execution_count": null,
   "id": "4be15357",
   "metadata": {},
   "outputs": [],
   "source": []
  },
  {
   "cell_type": "code",
   "execution_count": null,
   "id": "90e3b364",
   "metadata": {},
   "outputs": [],
   "source": []
  },
  {
   "cell_type": "markdown",
   "id": "44b4676b",
   "metadata": {},
   "source": [
    "# Feature Engineering \n"
   ]
  },
  {
   "cell_type": "markdown",
   "id": "7f8cd1a7",
   "metadata": {},
   "source": [
    "it is the process to create feature / extract hte feature form the existing features by domain knowledge to increase the performance of machine learning model\n",
    "\n",
    "\n"
   ]
  },
  {
   "cell_type": "markdown",
   "id": "ee732026",
   "metadata": {},
   "source": [
    "Types of Variable \n"
   ]
  },
  {
   "cell_type": "markdown",
   "id": "1c7c09fc",
   "metadata": {},
   "source": [
    "Numerical =  \n",
    "\tDiscrete  1,2,3,4,6,7,5,7\n",
    "    \n",
    "    Continous 1.23,535.4,46.4,6.4,4.6"
   ]
  },
  {
   "cell_type": "markdown",
   "id": "e3925735",
   "metadata": {},
   "source": [
    "Categorical=\n",
    "\tordinal  is a categorical variavariable  in which the categories can be meaning fully orderd like grade A ,B, C,D,E\n",
    "    \n",
    "    Nominal is same like ordinal variable but there is nothing that indicates an intrinsic order of the labels and in principle \n",
    "    there are no order in the nominal variable "
   ]
  },
  {
   "cell_type": "markdown",
   "id": "6721dcba",
   "metadata": {},
   "source": [
    "Dates and Times   ==date time day "
   ]
  },
  {
   "cell_type": "markdown",
   "id": "38459eb5",
   "metadata": {},
   "source": [
    "Mixed    numbers and categories (labels) are called mixed variables "
   ]
  },
  {
   "cell_type": "code",
   "execution_count": null,
   "id": "7b39c61e",
   "metadata": {},
   "outputs": [],
   "source": []
  },
  {
   "cell_type": "code",
   "execution_count": null,
   "id": "6a14ad08",
   "metadata": {},
   "outputs": [],
   "source": []
  },
  {
   "cell_type": "code",
   "execution_count": null,
   "id": "d3269150",
   "metadata": {},
   "outputs": [],
   "source": []
  },
  {
   "cell_type": "code",
   "execution_count": null,
   "id": "a300b358",
   "metadata": {},
   "outputs": [],
   "source": []
  }
 ],
 "metadata": {
  "kernelspec": {
   "display_name": "Python 3 (ipykernel)",
   "language": "python",
   "name": "python3"
  },
  "language_info": {
   "codemirror_mode": {
    "name": "ipython",
    "version": 3
   },
   "file_extension": ".py",
   "mimetype": "text/x-python",
   "name": "python",
   "nbconvert_exporter": "python",
   "pygments_lexer": "ipython3",
   "version": "3.9.7"
  }
 },
 "nbformat": 4,
 "nbformat_minor": 5
}
